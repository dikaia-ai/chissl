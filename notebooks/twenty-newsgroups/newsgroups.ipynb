{
 "cells": [
  {
   "cell_type": "code",
   "execution_count": 1,
   "metadata": {},
   "outputs": [],
   "source": [
    "import os, json\n",
    "import pandas as pd\n",
    "import numpy as np\n",
    "\n",
    "import matplotlib.pyplot as plt\n",
    "%matplotlib inline"
   ]
  },
  {
   "cell_type": "code",
   "execution_count": 2,
   "metadata": {},
   "outputs": [],
   "source": [
    "OUTPUT_FOLDER = 'data'"
   ]
  },
  {
   "cell_type": "markdown",
   "metadata": {},
   "source": [
    "# Process the 20 Newsgroups Dataset"
   ]
  },
  {
   "cell_type": "code",
   "execution_count": 3,
   "metadata": {},
   "outputs": [
    {
     "data": {
      "text/html": [
       "<div>\n",
       "<style scoped>\n",
       "    .dataframe tbody tr th:only-of-type {\n",
       "        vertical-align: middle;\n",
       "    }\n",
       "\n",
       "    .dataframe tbody tr th {\n",
       "        vertical-align: top;\n",
       "    }\n",
       "\n",
       "    .dataframe thead th {\n",
       "        text-align: right;\n",
       "    }\n",
       "</style>\n",
       "<table border=\"1\" class=\"dataframe\">\n",
       "  <thead>\n",
       "    <tr style=\"text-align: right;\">\n",
       "      <th></th>\n",
       "      <th>source</th>\n",
       "      <th>title</th>\n",
       "      <th>content</th>\n",
       "      <th>group</th>\n",
       "    </tr>\n",
       "  </thead>\n",
       "  <tbody>\n",
       "    <tr>\n",
       "      <th>0</th>\n",
       "      <td>lerxst@wam.umd.edu (where's my thing)</td>\n",
       "      <td>WHAT car is this!?</td>\n",
       "      <td>I was wondering if anyone out there could enli...</td>\n",
       "      <td>Autos</td>\n",
       "    </tr>\n",
       "    <tr>\n",
       "      <th>1</th>\n",
       "      <td>guykuo@carson.u.washington.edu (Guy Kuo)</td>\n",
       "      <td>SI Clock Poll - Final Call</td>\n",
       "      <td>A fair number of brave souls who upgraded thei...</td>\n",
       "      <td>Hardware</td>\n",
       "    </tr>\n",
       "    <tr>\n",
       "      <th>2</th>\n",
       "      <td>twillis@ec.ecn.purdue.edu (Thomas E Willis)</td>\n",
       "      <td>PB questions...</td>\n",
       "      <td>well folks, my mac plus finally gave up the gh...</td>\n",
       "      <td>Hardware</td>\n",
       "    </tr>\n",
       "    <tr>\n",
       "      <th>4</th>\n",
       "      <td>jcm@head-cfa.harvard.edu (Jonathan McDowell)</td>\n",
       "      <td>Re: Shuttle Launch Question</td>\n",
       "      <td>From article &lt;C5owCB.n3p@world.std.com&gt;, by to...</td>\n",
       "      <td>Space</td>\n",
       "    </tr>\n",
       "    <tr>\n",
       "      <th>6</th>\n",
       "      <td>bmdelane@quads.uchicago.edu (brian manning de...</td>\n",
       "      <td>Brain Tumor Treatment (thanks)</td>\n",
       "      <td>There were a few people who responded to my re...</td>\n",
       "      <td>Medicine</td>\n",
       "    </tr>\n",
       "  </tbody>\n",
       "</table>\n",
       "</div>"
      ],
      "text/plain": [
       "                                              source  \\\n",
       "0              lerxst@wam.umd.edu (where's my thing)   \n",
       "1           guykuo@carson.u.washington.edu (Guy Kuo)   \n",
       "2        twillis@ec.ecn.purdue.edu (Thomas E Willis)   \n",
       "4       jcm@head-cfa.harvard.edu (Jonathan McDowell)   \n",
       "6   bmdelane@quads.uchicago.edu (brian manning de...   \n",
       "\n",
       "                            title  \\\n",
       "0              WHAT car is this!?   \n",
       "1      SI Clock Poll - Final Call   \n",
       "2                 PB questions...   \n",
       "4     Re: Shuttle Launch Question   \n",
       "6  Brain Tumor Treatment (thanks)   \n",
       "\n",
       "                                             content     group  \n",
       "0  I was wondering if anyone out there could enli...     Autos  \n",
       "1  A fair number of brave souls who upgraded thei...  Hardware  \n",
       "2  well folks, my mac plus finally gave up the gh...  Hardware  \n",
       "4  From article <C5owCB.n3p@world.std.com>, by to...     Space  \n",
       "6  There were a few people who responded to my re...  Medicine  "
      ]
     },
     "execution_count": 3,
     "metadata": {},
     "output_type": "execute_result"
    }
   ],
   "source": [
    "from sklearn.datasets import fetch_20newsgroups\n",
    "\n",
    "data = fetch_20newsgroups()\n",
    "\n",
    "def parse_document(s):\n",
    "    header, content = s.split('\\n\\n', 1)\n",
    "    source, title, _ = header.split('\\n', 2)\n",
    "    return {'source': source.replace('From:', ''),\n",
    "            'title': title.replace('Subject: ', ''),\n",
    "            'content': content.strip()}\n",
    "\n",
    "targets = {\n",
    " 'comp.os.ms-windows.misc'  : 'Software',\n",
    " 'comp.windows.x'           : 'Software',\n",
    " 'comp.sys.ibm.pc.hardware' : 'Hardware',\n",
    " 'comp.sys.mac.hardware'    : 'Hardware',\n",
    " 'misc.forsale'             : 'For sale',\n",
    " 'rec.autos'                : 'Autos',\n",
    " 'rec.motorcycles'          : 'Autos',\n",
    " 'rec.sport.baseball'       : 'Sports',\n",
    " 'rec.sport.hockey'         : 'Sports',\n",
    " 'sci.med'                  : 'Medicine',\n",
    " 'sci.space'                : 'Space'\n",
    "}\n",
    "\n",
    "df = pd.DataFrame(list(map(parse_document, data.data)))\n",
    "df['group'] = [targets.get(x, 'None') for x in np.array(data.target_names)[data.target]]\n",
    "df = df[df.group != 'None']\n",
    "df.head()"
   ]
  },
  {
   "cell_type": "markdown",
   "metadata": {},
   "source": [
    "# Add text documents to local storage"
   ]
  },
  {
   "cell_type": "code",
   "execution_count": 4,
   "metadata": {},
   "outputs": [],
   "source": [
    "os.makedirs(OUTPUT_FOLDER, exist_ok=True)\n",
    "\n",
    "docs = df.to_dict(orient='records')\n",
    "\n",
    "for i, obj in zip(df.index, docs):\n",
    "    fname = os.path.join(OUTPUT_FOLDER, f'{i}.json')\n",
    "    if not os.path.exists(fname):\n",
    "        with open(fname, 'w') as fp:\n",
    "            json.dump(obj, fp)"
   ]
  },
  {
   "cell_type": "markdown",
   "metadata": {},
   "source": [
    "# Create a Newsgroups application"
   ]
  },
  {
   "cell_type": "markdown",
   "metadata": {},
   "source": [
    "# Fit a model"
   ]
  },
  {
   "cell_type": "code",
   "execution_count": 5,
   "metadata": {},
   "outputs": [
    {
     "name": "stderr",
     "output_type": "stream",
     "text": [
      "[nltk_data] Downloading package punkt to /Users/aren438/nltk_data...\n",
      "[nltk_data]   Package punkt is already up-to-date!\n",
      "/Users/aren438/opt/anaconda3/lib/python3.8/site-packages/sklearn/feature_extraction/text.py:484: UserWarning: The parameter 'token_pattern' will not be used since 'tokenizer' is not None'\n",
      "  warnings.warn(\"The parameter 'token_pattern' will not be used\"\n"
     ]
    }
   ],
   "source": [
    "from sklearn.pipeline import Pipeline\n",
    "from sklearn.base import TransformerMixin\n",
    "from sklearn.feature_extraction.text import TfidfVectorizer\n",
    "from sklearn.decomposition import NMF\n",
    "from sklearn.preprocessing import Normalizer, StandardScaler\n",
    "\n",
    "import nltk\n",
    "from nltk.stem.porter import PorterStemmer\n",
    "\n",
    "nltk.download('punkt')\n",
    "\n",
    "class JSONTfidfVectorizer(TfidfVectorizer):\n",
    "    def __init__(self, field='content', **kwargs):\n",
    "        self.field = field\n",
    "        self.stemmer = PorterStemmer()\n",
    "        \n",
    "        super().__init__(**kwargs,\n",
    "                         preprocessor=self.extract,\n",
    "                         tokenizer=self.stem\n",
    "                        )\n",
    "        \n",
    "    def fit(self, X, y=None):\n",
    "        self.stem_table = {}\n",
    "        super().fit(X, y)\n",
    "        return self\n",
    "    \n",
    "    def fit_transform(self, X, y=None):\n",
    "        return self.fit(X, y).transform(X)\n",
    "    \n",
    "    def stem(self, text):\n",
    "        return [self.stem_table.setdefault(self.stemmer.stem(item), item)\n",
    "                for item in nltk.word_tokenize(text)\n",
    "                if item.isalnum()]\n",
    "        \n",
    "    def extract(self, obj):\n",
    "        return obj[self.field]\n",
    "\n",
    "TextPipeline = Pipeline([\n",
    "    ('tfidf', JSONTfidfVectorizer(stop_words='english', min_df=5, max_df=.2, sublinear_tf=True)),\n",
    "    ('the topic model!!!', NMF(n_components=30)),\n",
    "    ('norm', Normalizer('l1')),\n",
    "])\n",
    "\n",
    "X = pd.DataFrame(\n",
    "    TextPipeline.fit_transform(docs),\n",
    "    index=df.index\n",
    ")"
   ]
  },
  {
   "cell_type": "markdown",
   "metadata": {},
   "source": [
    "# Visualize results\n",
    "We are looking for something with more structure than a big blob if it worked correctly"
   ]
  },
  {
   "cell_type": "code",
   "execution_count": 6,
   "metadata": {},
   "outputs": [
    {
     "data": {
      "text/plain": [
       "{'source': \" lerxst@wam.umd.edu (where's my thing)\",\n",
       " 'title': 'WHAT car is this!?',\n",
       " 'content': 'I was wondering if anyone out there could enlighten me on this car I saw\\nthe other day. It was a 2-door sports car, looked to be from the late 60s/\\nearly 70s. It was called a Bricklin. The doors were really small. In addition,\\nthe front bumper was separate from the rest of the body. This is \\nall I know. If anyone can tellme a model name, engine specs, years\\nof production, where this car is made, history, or whatever info you\\nhave on this funky looking car, please e-mail.\\n\\nThanks,\\n- IL\\n   ---- brought to you by your neighborhood Lerxst ----',\n",
       " 'group': 'Autos'}"
      ]
     },
     "execution_count": 6,
     "metadata": {},
     "output_type": "execute_result"
    }
   ],
   "source": [
    "with open('data/0.json') as fp:\n",
    "    obj = json.load(fp)\n",
    "    \n",
    "obj"
   ]
  },
  {
   "cell_type": "code",
   "execution_count": 7,
   "metadata": {
    "scrolled": false
   },
   "outputs": [
    {
     "data": {
      "application/vnd.jupyter.widget-view+json": {
       "model_id": "",
       "version_major": 2,
       "version_minor": 0
      },
      "text/plain": [
       "ChisslWidget(component='ChisslWidget', props={'parents': [8358, 10660, 7193, 9332, 9295, 9484, 7374, 8489, 803…"
      ]
     },
     "metadata": {},
     "output_type": "display_data"
    }
   ],
   "source": [
    "from umap import UMAP\n",
    "import chissl\n",
    "\n",
    "self = chissl.ChisslWidget(X,\n",
    "    features=df[['group']],\n",
    "    component='NewsgroupsComponent',\n",
    "    prefix='/files/chissl-widget/notebooks/twenty-newsgroups/data/',\n",
    "    suffix='.json'\n",
    ")\n",
    "\n",
    "self"
   ]
  },
  {
   "cell_type": "code",
   "execution_count": 10,
   "metadata": {},
   "outputs": [
    {
     "data": {
      "application/vnd.jupyter.widget-view+json": {
       "model_id": "1217171e5dd1422a834fa4c1e46c0073",
       "version_major": 2,
       "version_minor": 0
      },
      "text/plain": [
       "ChisslWidget(component='ChisslWidget', predictions={'previousClasses': [None, None, None, None, None, None, No…"
      ]
     },
     "metadata": {},
     "output_type": "display_data"
    }
   ],
   "source": [
    "self"
   ]
  },
  {
   "cell_type": "code",
   "execution_count": 9,
   "metadata": {},
   "outputs": [],
   "source": [
    "# notes\n",
    "# generalizability? or just for phishing\n",
    "# prodigy recipe\n",
    "# progress fixing cookiecutter\n",
    "\n",
    "# better email vis\n",
    "# genx\n",
    "# jupyter hub"
   ]
  }
 ],
 "metadata": {
  "kernelspec": {
   "display_name": "Python 3",
   "language": "python",
   "name": "python3"
  },
  "language_info": {
   "codemirror_mode": {
    "name": "ipython",
    "version": 3
   },
   "file_extension": ".py",
   "mimetype": "text/x-python",
   "name": "python",
   "nbconvert_exporter": "python",
   "pygments_lexer": "ipython3",
   "version": "3.8.5"
  }
 },
 "nbformat": 4,
 "nbformat_minor": 2
}
